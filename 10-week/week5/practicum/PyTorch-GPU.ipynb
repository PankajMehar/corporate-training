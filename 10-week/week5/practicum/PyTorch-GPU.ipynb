{
 "cells": [
  {
   "cell_type": "code",
   "execution_count": 2,
   "metadata": {},
   "outputs": [],
   "source": [
    "import torch\n",
    "import torchvision\n",
    "import torchvision.transforms as transforms\n",
    "import torch.nn as nn\n",
    "import torch.nn.functional as F\n",
    "import torch.optim as optim"
   ]
  },
  {
   "cell_type": "markdown",
   "metadata": {},
   "source": [
    "# Utility Functions"
   ]
  },
  {
   "cell_type": "code",
   "execution_count": 3,
   "metadata": {},
   "outputs": [],
   "source": [
    "def load_cifar10_dataset():\n",
    "    \"\"\"\n",
    "    Download and pre-process the CIFAR10 dataset.\n",
    "\n",
    "    Returns:\n",
    "        a \"loader\" for our training data, a loader for our\n",
    "        test data, a tuple of classes\n",
    "    \"\"\"\n",
    "\n",
    "    # Create a \"transform\" that will allow us to transform the\n",
    "    # image objects to tensors and normalize their values. Find\n",
    "    # out more about PyTorch transform here:\n",
    "    # https://pytorch.org/docs/stable/torchvision/transforms.html\n",
    "    transform = transforms.Compose([\n",
    "        transforms.ToTensor(),\n",
    "        transforms.Normalize((0.5, 0.5, 0.5), (0.5, 0.5, 0.5))])\n",
    "\n",
    "    # Download the traning dataset to our data folder and create a\n",
    "    # data loader that will allow us to load in batches of the\n",
    "    # images. torch.utils.data.DataLoader is an iterator which lets us\n",
    "    # batch the data, shuffle the data, and load the data in parallel\n",
    "    #using multiprocessing workers.\n",
    "    trainset = torchvision.datasets.CIFAR10(root='../data', train=True,\n",
    "                                        download=True, transform=transform)\n",
    "    trainloader = torch.utils.data.DataLoader(trainset, batch_size=4,\n",
    "                                          shuffle=True, num_workers=2)\n",
    "\n",
    "    # Download the test data and create another data loader.\n",
    "    testset = torchvision.datasets.CIFAR10(root='../data', train=False,\n",
    "                                       download=True, transform=transform)\n",
    "    testloader = torch.utils.data.DataLoader(testset, batch_size=4,\n",
    "                                         shuffle=False, num_workers=2)\n",
    "\n",
    "    # Create a tuple of classes contained in the data set.\n",
    "    classes = ('plane', 'car', 'bird', 'cat',\n",
    "           'deer', 'dog', 'frog', 'horse', 'ship', 'truck')\n",
    "\n",
    "    return trainloader, testloader, classes"
   ]
  },
  {
   "cell_type": "markdown",
   "metadata": {},
   "source": [
    "# Model and Training Definition"
   ]
  },
  {
   "cell_type": "markdown",
   "metadata": {},
   "source": [
    "This is very similar to what we had in the lesson 3 example, but note the 2 very important changes that map the training operations to the GPU."
   ]
  },
  {
   "cell_type": "code",
   "execution_count": 7,
   "metadata": {},
   "outputs": [],
   "source": [
    "class Net(nn.Module):\n",
    "    def __init__(self):\n",
    "        super(Net, self).__init__()\n",
    "\n",
    "        # A 1st convolutional layer.\n",
    "        self.conv1 = nn.Conv2d(3, 6, 5)\n",
    "\n",
    "        # A \"pooling\" layer. Find out more about these here:\n",
    "        # http://cs231n.github.io/convolutional-networks/\n",
    "        self.pool = nn.MaxPool2d(2, 2)\n",
    "\n",
    "        # A 2nd convolutional layer.\n",
    "        self.conv2 = nn.Conv2d(6, 16, 5)\n",
    "\n",
    "        # A fully connected linear layer like we have seen before.\n",
    "        self.fc1 = nn.Linear(16 * 5 * 5, 120)\n",
    "\n",
    "        # Another fully connected linear layer.\n",
    "        self.fc2 = nn.Linear(120, 84)\n",
    "\n",
    "        # A final fully connected linear layer.\n",
    "        self.fc3 = nn.Linear(84, 10)\n",
    "\n",
    "    def forward(self, x):\n",
    "        x = self.pool(F.relu(self.conv1(x)))\n",
    "        x = self.pool(F.relu(self.conv2(x)))\n",
    "        x = x.view(-1, 16 * 5 * 5)\n",
    "        x = F.relu(self.fc1(x))\n",
    "        x = F.relu(self.fc2(x))\n",
    "        x = self.fc3(x)\n",
    "        return x\n",
    "\n",
    "def nn_fit(trainloader, learning_rate, epochs, device):\n",
    "    \"\"\"\n",
    "    Train a CNN using SGD and pytorch.\n",
    "\n",
    "    Args:\n",
    "        trainloader - a training data set loader\n",
    "        learning_rate - learning rate used in SGD\n",
    "        epochs - number of epochs for the SGD loop\n",
    "    Returns:\n",
    "        The trained model\n",
    "    \"\"\"\n",
    "\n",
    "    # initialize the model\n",
    "    model = Net()\n",
    "    \n",
    "    # NOTE - THIS IMPORTANT CHANGE\n",
    "    # Run our model training operations of the GPU.\n",
    "    model.to(device)\n",
    "\n",
    "    # our error/loss function\n",
    "    criterion = nn.CrossEntropyLoss()\n",
    "\n",
    "    # define our SGD optimizer\n",
    "    optimiser = torch.optim.SGD(model.parameters(), lr=learning_rate, momentum=0.9)\n",
    "\n",
    "    # loop over our epochs, similar to our previous implementations\n",
    "    for epoch in range(epochs):\n",
    "\n",
    "        # This time we will keep a running total of our\n",
    "        # loss so we can print out some stats.\n",
    "        running_loss = 0.0\n",
    "\n",
    "        # Also, as opposed to previous examples, we will be\n",
    "        # uses \"batches\" of our data here in the gradient\n",
    "        # descent training. By using the batches loaded from the data\n",
    "        # loader, we can increase our training efficience (which\n",
    "        # is important now that our model is much more\n",
    "        # complicated). Otherwise, this is the very same thing\n",
    "        # we have been doing since the first lessons.\n",
    "        for i, data in enumerate(trainloader, 0):\n",
    "\n",
    "            # get the inputs\n",
    "            features, labels = data\n",
    "            \n",
    "            # NOTE - THIS IMPORTANT CHANGE\n",
    "            features, labels = features.to(device), labels.to(device)\n",
    "\n",
    "            # clear the gradients\n",
    "            optimiser.zero_grad()\n",
    "\n",
    "            # calculate the predicted values\n",
    "            predictions = model.forward(features)\n",
    "\n",
    "            # calculate our loss\n",
    "            loss = criterion(predictions, labels)\n",
    "\n",
    "            # implement our gradient-based updates to our\n",
    "            # parammeters (putting them \"back\" into the model\n",
    "            # via a \"backward\" update)\n",
    "            loss.backward()\n",
    "            optimiser.step()\n",
    "\n",
    "            # print statistics\n",
    "            running_loss += loss.item()\n",
    "            if i % 2000 == 1999:\n",
    "                print('[%d, %5d] loss: %.3f' %\n",
    "                        (epoch + 1, i + 1, running_loss / 2000))\n",
    "                running_loss = 0.0\n",
    "\n",
    "    return model"
   ]
  },
  {
   "cell_type": "markdown",
   "metadata": {},
   "source": [
    "# Connect to GPU"
   ]
  },
  {
   "cell_type": "code",
   "execution_count": 5,
   "metadata": {},
   "outputs": [
    {
     "name": "stdout",
     "output_type": "stream",
     "text": [
      "cuda:0\n"
     ]
    }
   ],
   "source": [
    "device = torch.device(\"cuda:0\" if torch.cuda.is_available() else \"cpu\")\n",
    "print(device)"
   ]
  },
  {
   "cell_type": "markdown",
   "metadata": {},
   "source": [
    "# Run Training and Testing"
   ]
  },
  {
   "cell_type": "code",
   "execution_count": 8,
   "metadata": {},
   "outputs": [
    {
     "name": "stdout",
     "output_type": "stream",
     "text": [
      "Downloading https://www.cs.toronto.edu/~kriz/cifar-10-python.tar.gz to ../data/cifar-10-python.tar.gz\n",
      "Files already downloaded and verified\n"
     ]
    }
   ],
   "source": [
    "# import and pre-process the CIFAR10 data\n",
    "trainloader, testloader, classes = load_cifar10_dataset()"
   ]
  },
  {
   "cell_type": "code",
   "execution_count": 10,
   "metadata": {},
   "outputs": [
    {
     "name": "stdout",
     "output_type": "stream",
     "text": [
      "[1,  2000] loss: 2.235\n",
      "[1,  4000] loss: 1.893\n",
      "[1,  6000] loss: 1.695\n",
      "[1,  8000] loss: 1.559\n",
      "[1, 10000] loss: 1.503\n",
      "[1, 12000] loss: 1.458\n",
      "[2,  2000] loss: 1.364\n",
      "[2,  4000] loss: 1.339\n",
      "[2,  6000] loss: 1.331\n",
      "[2,  8000] loss: 1.320\n",
      "[2, 10000] loss: 1.300\n",
      "[2, 12000] loss: 1.248\n"
     ]
    }
   ],
   "source": [
    "# train our model on the GPU\n",
    "model = nn_fit(trainloader, 0.001, 2, device)"
   ]
  },
  {
   "cell_type": "code",
   "execution_count": 13,
   "metadata": {},
   "outputs": [
    {
     "name": "stdout",
     "output_type": "stream",
     "text": [
      "Accuracy: 56 %\n"
     ]
    }
   ],
   "source": [
    "# test the model\n",
    "correct = 0\n",
    "total = 0\n",
    "with torch.no_grad():\n",
    "    for data in testloader:\n",
    "        images, labels = data\n",
    "        images = images.to(device)\n",
    "        labels = labels.to(device)\n",
    "        outputs = model(images)\n",
    "        _, predicted = torch.max(outputs.data, 1)\n",
    "        total += labels.size(0)\n",
    "        correct += (predicted == labels).sum().item()\n",
    "\n",
    "print('Accuracy: %d %%' % (100 * correct / total))"
   ]
  }
 ],
 "metadata": {
  "kernelspec": {
   "display_name": "conda_pytorch_p36",
   "language": "python",
   "name": "conda_pytorch_p36"
  },
  "language_info": {
   "codemirror_mode": {
    "name": "ipython",
    "version": 3
   },
   "file_extension": ".py",
   "mimetype": "text/x-python",
   "name": "python",
   "nbconvert_exporter": "python",
   "pygments_lexer": "ipython3",
   "version": "3.6.5"
  }
 },
 "nbformat": 4,
 "nbformat_minor": 2
}
