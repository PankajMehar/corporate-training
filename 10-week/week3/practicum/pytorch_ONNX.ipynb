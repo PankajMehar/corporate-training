{
 "cells": [
  {
   "cell_type": "code",
   "execution_count": 1,
   "metadata": {},
   "outputs": [],
   "source": [
    "import io\n",
    "\n",
    "import boto3\n",
    "import pandas as pd\n",
    "import numpy as np\n",
    "import torch\n",
    "from torch.autograd import Variable\n",
    "import torch.onnx\n",
    "from sklearn.preprocessing import MinMaxScaler\n",
    "from sklearn.metrics import accuracy_score\n",
    "from sklearn.model_selection import train_test_split\n",
    "from sklearn.ensemble import RandomForestClassifier"
   ]
  },
  {
   "cell_type": "markdown",
   "metadata": {},
   "source": [
    "# Retrieve the data"
   ]
  },
  {
   "cell_type": "code",
   "execution_count": 2,
   "metadata": {},
   "outputs": [],
   "source": [
    "s3_client = boto3.client('s3')\n",
    "data_bucket_name='datadan'"
   ]
  },
  {
   "cell_type": "code",
   "execution_count": 3,
   "metadata": {},
   "outputs": [
    {
     "data": {
      "text/html": [
       "<div>\n",
       "<style scoped>\n",
       "    .dataframe tbody tr th:only-of-type {\n",
       "        vertical-align: middle;\n",
       "    }\n",
       "\n",
       "    .dataframe tbody tr th {\n",
       "        vertical-align: top;\n",
       "    }\n",
       "\n",
       "    .dataframe thead th {\n",
       "        text-align: right;\n",
       "    }\n",
       "</style>\n",
       "<table border=\"1\" class=\"dataframe\">\n",
       "  <thead>\n",
       "    <tr style=\"text-align: right;\">\n",
       "      <th></th>\n",
       "      <th>admit</th>\n",
       "      <th>gre</th>\n",
       "      <th>gpa</th>\n",
       "      <th>rank</th>\n",
       "    </tr>\n",
       "  </thead>\n",
       "  <tbody>\n",
       "    <tr>\n",
       "      <th>0</th>\n",
       "      <td>0</td>\n",
       "      <td>380</td>\n",
       "      <td>3.61</td>\n",
       "      <td>3</td>\n",
       "    </tr>\n",
       "    <tr>\n",
       "      <th>1</th>\n",
       "      <td>1</td>\n",
       "      <td>660</td>\n",
       "      <td>3.67</td>\n",
       "      <td>3</td>\n",
       "    </tr>\n",
       "    <tr>\n",
       "      <th>2</th>\n",
       "      <td>1</td>\n",
       "      <td>800</td>\n",
       "      <td>4.00</td>\n",
       "      <td>1</td>\n",
       "    </tr>\n",
       "    <tr>\n",
       "      <th>3</th>\n",
       "      <td>1</td>\n",
       "      <td>640</td>\n",
       "      <td>3.19</td>\n",
       "      <td>4</td>\n",
       "    </tr>\n",
       "    <tr>\n",
       "      <th>4</th>\n",
       "      <td>0</td>\n",
       "      <td>520</td>\n",
       "      <td>2.93</td>\n",
       "      <td>4</td>\n",
       "    </tr>\n",
       "  </tbody>\n",
       "</table>\n",
       "</div>"
      ],
      "text/plain": [
       "   admit  gre   gpa  rank\n",
       "0      0  380  3.61     3\n",
       "1      1  660  3.67     3\n",
       "2      1  800  4.00     1\n",
       "3      1  640  3.19     4\n",
       "4      0  520  2.93     4"
      ]
     },
     "execution_count": 3,
     "metadata": {},
     "output_type": "execute_result"
    }
   ],
   "source": [
    "response = s3_client.get_object(Bucket=data_bucket_name, Key='practical-ai/section3/grad_school.csv')\n",
    "response_body = response[\"Body\"].read()\n",
    "data = pd.read_csv(io.BytesIO(response_body), header=0, delimiter=\",\", low_memory=False)\n",
    "data.head()"
   ]
  },
  {
   "cell_type": "markdown",
   "metadata": {},
   "source": [
    "# Pre-process data"
   ]
  },
  {
   "cell_type": "code",
   "execution_count": 4,
   "metadata": {},
   "outputs": [
    {
     "data": {
      "text/html": [
       "<div>\n",
       "<style scoped>\n",
       "    .dataframe tbody tr th:only-of-type {\n",
       "        vertical-align: middle;\n",
       "    }\n",
       "\n",
       "    .dataframe tbody tr th {\n",
       "        vertical-align: top;\n",
       "    }\n",
       "\n",
       "    .dataframe thead th {\n",
       "        text-align: right;\n",
       "    }\n",
       "</style>\n",
       "<table border=\"1\" class=\"dataframe\">\n",
       "  <thead>\n",
       "    <tr style=\"text-align: right;\">\n",
       "      <th></th>\n",
       "      <th>gre</th>\n",
       "      <th>gpa</th>\n",
       "      <th>rank</th>\n",
       "      <th>admit</th>\n",
       "    </tr>\n",
       "  </thead>\n",
       "  <tbody>\n",
       "    <tr>\n",
       "      <th>140</th>\n",
       "      <td>0.724138</td>\n",
       "      <td>0.959770</td>\n",
       "      <td>0.333333</td>\n",
       "      <td>0</td>\n",
       "    </tr>\n",
       "    <tr>\n",
       "      <th>237</th>\n",
       "      <td>0.448276</td>\n",
       "      <td>1.000000</td>\n",
       "      <td>0.333333</td>\n",
       "      <td>0</td>\n",
       "    </tr>\n",
       "    <tr>\n",
       "      <th>274</th>\n",
       "      <td>0.517241</td>\n",
       "      <td>0.494253</td>\n",
       "      <td>0.333333</td>\n",
       "      <td>0</td>\n",
       "    </tr>\n",
       "    <tr>\n",
       "      <th>131</th>\n",
       "      <td>0.724138</td>\n",
       "      <td>0.304598</td>\n",
       "      <td>0.333333</td>\n",
       "      <td>0</td>\n",
       "    </tr>\n",
       "    <tr>\n",
       "      <th>73</th>\n",
       "      <td>0.620690</td>\n",
       "      <td>1.000000</td>\n",
       "      <td>0.333333</td>\n",
       "      <td>0</td>\n",
       "    </tr>\n",
       "  </tbody>\n",
       "</table>\n",
       "</div>"
      ],
      "text/plain": [
       "          gre       gpa      rank  admit\n",
       "140  0.724138  0.959770  0.333333      0\n",
       "237  0.448276  1.000000  0.333333      0\n",
       "274  0.517241  0.494253  0.333333      0\n",
       "131  0.724138  0.304598  0.333333      0\n",
       "73   0.620690  1.000000  0.333333      0"
      ]
     },
     "execution_count": 4,
     "metadata": {},
     "output_type": "execute_result"
    }
   ],
   "source": [
    "# scale the loan data\n",
    "X = data[['gre','gpa','rank']]\n",
    "X = MinMaxScaler().fit_transform(X)\n",
    "data_scaled = pd.DataFrame(X, columns=['gre','gpa','rank']).join(data['admit'])\n",
    "\n",
    "# split the data into training and test sets\n",
    "train, test = train_test_split(data_scaled, test_size=0.2)\n",
    "\n",
    "train.head()"
   ]
  },
  {
   "cell_type": "code",
   "execution_count": 5,
   "metadata": {},
   "outputs": [
    {
     "name": "stdout",
     "output_type": "stream",
     "text": [
      "320\n",
      "80\n"
     ]
    }
   ],
   "source": [
    "print(len(train))\n",
    "print(len(test))"
   ]
  },
  {
   "cell_type": "markdown",
   "metadata": {},
   "source": [
    "# Train and Export Logistic Regression Model"
   ]
  },
  {
   "cell_type": "markdown",
   "metadata": {},
   "source": [
    "## Model Definition"
   ]
  },
  {
   "cell_type": "code",
   "execution_count": 6,
   "metadata": {},
   "outputs": [],
   "source": [
    "class LogRegModel(torch.nn.Module):\n",
    "\n",
    "    def __init__(self, input_dim, output_dim):\n",
    "\n",
    "        # call class constructor\n",
    "        super(LogRegModel, self).__init__()\n",
    "\n",
    "        # use the nn package to create a linear layer\n",
    "        self.linear = torch.nn.Linear(input_dim, output_dim)\n",
    "\n",
    "    def forward(self, x):\n",
    "\n",
    "        # First we pass the input through the linear layer (like we did before),\n",
    "        # then we pass that through sigmoid, which implements the logistic\n",
    "        # function.\n",
    "        out = torch.sigmoid(self.linear(x))\n",
    "        return out"
   ]
  },
  {
   "cell_type": "code",
   "execution_count": 7,
   "metadata": {},
   "outputs": [],
   "source": [
    "def log_reg_fit(x, y, learning_rate, epochs):\n",
    "    \"\"\"\n",
    "    Train a logistic regresson model using SGD and pytorch.\n",
    "\n",
    "    Args:\n",
    "        x - feature array, a numpy array\n",
    "        y - response array, a numpy array\n",
    "        learning_rate - learning rate used in SGD\n",
    "        epochs - number of epochs for the SGD loop\n",
    "    Returns:\n",
    "        The trained model\n",
    "    \"\"\"\n",
    "\n",
    "    # define the number of features that we expect as input\n",
    "    # (in input_dimension), and the number of output features\n",
    "    # (in output_dimension).\n",
    "    input_dimension = x.ndim\n",
    "    output_dimension = y.ndim\n",
    "\n",
    "    # prep the shapes of x and y for pytorch\n",
    "    if input_dimension == 1:\n",
    "        x = x[:, np.newaxis]\n",
    "    else:\n",
    "        input_dimension = x.shape[1]\n",
    "    if output_dimension == 1:\n",
    "        y = y[:, np.newaxis]\n",
    "    else:\n",
    "        output_dimension = y.shape[1]\n",
    "\n",
    "    # initialize the model\n",
    "    model = LogRegModel(input_dimension, output_dimension)\n",
    "\n",
    "    # our error/loss function\n",
    "    criterion = torch.nn.BCELoss()\n",
    "\n",
    "    # define our SGD optimizer\n",
    "    optimiser = torch.optim.SGD(model.parameters(), lr=learning_rate)\n",
    "\n",
    "    # loop over our epochs, similar to our previous implementation\n",
    "    for epoch in range(epochs):\n",
    "\n",
    "        # increment the epoch count\n",
    "        epoch +=1\n",
    "\n",
    "        # define our feature and response variables\n",
    "        features = Variable(torch.from_numpy(x).float())\n",
    "        labels = Variable(torch.from_numpy(y).float())\n",
    "\n",
    "        # clear the gradients\n",
    "        optimiser.zero_grad()\n",
    "\n",
    "        # calculate the predicted values\n",
    "        predictions = model.forward(features)\n",
    "\n",
    "        # calculate our loss\n",
    "        loss = criterion(predictions, labels)\n",
    "\n",
    "        # implement our gradient-based updates to our\n",
    "        # parammeters (putting them \"back\" into the model\n",
    "        # via a \"backward\" update)\n",
    "        loss.backward()\n",
    "        optimiser.step()\n",
    "\n",
    "    return model"
   ]
  },
  {
   "cell_type": "markdown",
   "metadata": {},
   "source": [
    "## Model Training and Testing"
   ]
  },
  {
   "cell_type": "code",
   "execution_count": 8,
   "metadata": {},
   "outputs": [
    {
     "name": "stdout",
     "output_type": "stream",
     "text": [
      "Accuracy:  0.6625\n"
     ]
    }
   ],
   "source": [
    "# train our model\n",
    "model = log_reg_fit(train[['gre','gpa','rank']].values, train['admit'].values, 0.1, 10000)\n",
    "\n",
    "# make predictions on our test data\n",
    "raw_predictions = model(Variable(torch.from_numpy(test[['gre','gpa','rank']].values).float()))\n",
    "predictions = []\n",
    "for prediction in raw_predictions:\n",
    "    if prediction.data.numpy()[0] > 0.50:\n",
    "        predictions.append(1.0)\n",
    "    else:\n",
    "        predictions.append(0.0)\n",
    "\n",
    "# calculate our accuracy\n",
    "acc = accuracy_score(test['admit'].values, predictions)\n",
    "print('Accuracy: ', acc)"
   ]
  },
  {
   "cell_type": "markdown",
   "metadata": {},
   "source": [
    "## Export ONNX model"
   ]
  },
  {
   "cell_type": "code",
   "execution_count": 9,
   "metadata": {},
   "outputs": [],
   "source": [
    "# Create a dummpy input for the model export, such\n",
    "# that it know the shape of the expected input. This\n",
    "# can be dummy data or you can use real values.\n",
    "dummy_input = Variable(torch.from_numpy(test[['gre','gpa','rank']].values).float())\n",
    "torch.onnx.export(model, dummy_input, \"log_reg.onnx\")"
   ]
  }
 ],
 "metadata": {
  "kernelspec": {
   "display_name": "conda_pytorch_p36",
   "language": "python",
   "name": "conda_pytorch_p36"
  },
  "language_info": {
   "codemirror_mode": {
    "name": "ipython",
    "version": 3
   },
   "file_extension": ".py",
   "mimetype": "text/x-python",
   "name": "python",
   "nbconvert_exporter": "python",
   "pygments_lexer": "ipython3",
   "version": "3.6.5"
  }
 },
 "nbformat": 4,
 "nbformat_minor": 2
}
