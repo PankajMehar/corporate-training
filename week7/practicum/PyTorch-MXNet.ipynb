{
 "cells": [
  {
   "cell_type": "markdown",
   "metadata": {},
   "source": [
    "# Install a few dependencies"
   ]
  },
  {
   "cell_type": "code",
   "execution_count": 1,
   "metadata": {},
   "outputs": [
    {
     "name": "stdout",
     "output_type": "stream",
     "text": [
      "Solving environment: done\n",
      "\n",
      "## Package Plan ##\n",
      "\n",
      "  environment location: /home/ec2-user/anaconda3/envs/mxnet_p36\n",
      "\n",
      "  added / updated specs: \n",
      "    - onnx\n",
      "\n",
      "\n",
      "The following packages will be downloaded:\n",
      "\n",
      "    package                    |            build\n",
      "    ---------------------------|-----------------\n",
      "    onnx-1.0.1                 |           py36_1         4.4 MB  conda-forge\n",
      "\n",
      "The following NEW packages will be INSTALLED:\n",
      "\n",
      "    onnx:            1.0.1-py36_1         conda-forge\n",
      "\n",
      "The following packages will be UPDATED:\n",
      "\n",
      "    ca-certificates: 2018.8.24-ha4d7672_0 conda-forge --> 2018.10.15-ha4d7672_0 conda-forge\n",
      "    certifi:         2018.8.24-py36_1     conda-forge --> 2018.10.15-py36_1000  conda-forge\n",
      "    openssl:         1.0.2p-h470a237_0    conda-forge --> 1.0.2p-h470a237_1     conda-forge\n",
      "\n",
      "\n",
      "Downloading and Extracting Packages\n",
      "onnx-1.0.1           | 4.4 MB    | ##################################### | 100% \n",
      "Preparing transaction: done\n",
      "Verifying transaction: done\n",
      "Executing transaction: done\n"
     ]
    }
   ],
   "source": [
    "!conda install -y -c conda-forge onnx"
   ]
  },
  {
   "cell_type": "code",
   "execution_count": 2,
   "metadata": {},
   "outputs": [
    {
     "name": "stdout",
     "output_type": "stream",
     "text": [
      "Requirement already satisfied: mxnet-model-server in /home/ec2-user/anaconda3/envs/mxnet_p36/lib/python3.6/site-packages (0.4)\n",
      "Requirement already satisfied: Pillow in /home/ec2-user/anaconda3/envs/mxnet_p36/lib/python3.6/site-packages (from mxnet-model-server) (5.0.0)\n",
      "Requirement already satisfied: jsonschema in /home/ec2-user/anaconda3/envs/mxnet_p36/lib/python3.6/site-packages (from mxnet-model-server) (2.6.0)\n",
      "Requirement already satisfied: flask-cors in /home/ec2-user/anaconda3/envs/mxnet_p36/lib/python3.6/site-packages (from mxnet-model-server) (3.0.3)\n",
      "Requirement already satisfied: boto3 in /home/ec2-user/anaconda3/envs/mxnet_p36/lib/python3.6/site-packages (from mxnet-model-server) (1.7.82)\n",
      "Requirement already satisfied: Flask in /home/ec2-user/anaconda3/envs/mxnet_p36/lib/python3.6/site-packages (from mxnet-model-server) (0.12.2)\n",
      "Requirement already satisfied: psutil in /home/ec2-user/anaconda3/envs/mxnet_p36/lib/python3.6/site-packages (from mxnet-model-server) (5.4.3)\n",
      "Collecting onnx==1.1.1 (from mxnet-model-server)\n",
      "\u001b[?25l  Downloading https://files.pythonhosted.org/packages/41/ff/9dedf5ec330be64c6c5f7b13e31d7ff674eb3525a2cc73c9f605fedb2e84/onnx-1.1.1.tar.gz (940kB)\n",
      "\u001b[K    100% |████████████████████████████████| 942kB 5.1MB/s ta 0:00:011\n",
      "\u001b[?25hRequirement already satisfied: fasteners in /home/ec2-user/anaconda3/envs/mxnet_p36/lib/python3.6/site-packages (from mxnet-model-server) (0.14.1)\n",
      "Requirement already satisfied: requests in /home/ec2-user/anaconda3/envs/mxnet_p36/lib/python3.6/site-packages (from mxnet-model-server) (2.18.4)\n",
      "Collecting mxnet-mkl>=1.2 (from mxnet-model-server)\n",
      "\u001b[?25l  Downloading https://files.pythonhosted.org/packages/16/7d/a8bb127562b12c5ac285f937af8662db03b59089db2bded68461790e1880/mxnet_mkl-1.3.0.post0-py2.py3-none-manylinux1_x86_64.whl (66.2MB)\n",
      "\u001b[K    100% |████████████████████████████████| 66.2MB 240kB/s eta 0:00:01    22% |███████▎                        | 15.1MB 8.9MB/s eta 0:00:06    50% |████████████████▎               | 33.7MB 9.5MB/s eta 0:00:04    59% |███████████████████             | 39.1MB 9.3MB/s eta 0:00:03    67% |█████████████████████▊          | 44.9MB 9.1MB/s eta 0:00:03    74% |███████████████████████▉        | 49.2MB 8.6MB/s eta 0:00:02    77% |████████████████████████▊       | 51.1MB 8.4MB/s eta 0:00:02\n",
      "\u001b[?25hRequirement already satisfied: importlib2 in /home/ec2-user/anaconda3/envs/mxnet_p36/lib/python3.6/site-packages (from mxnet-model-server) (3.5.0.2)\n",
      "Requirement already satisfied: Six in /home/ec2-user/anaconda3/envs/mxnet_p36/lib/python3.6/site-packages (from flask-cors->mxnet-model-server) (1.11.0)\n",
      "Requirement already satisfied: jmespath<1.0.0,>=0.7.1 in /home/ec2-user/anaconda3/envs/mxnet_p36/lib/python3.6/site-packages (from boto3->mxnet-model-server) (0.9.3)\n",
      "Requirement already satisfied: s3transfer<0.2.0,>=0.1.10 in /home/ec2-user/anaconda3/envs/mxnet_p36/lib/python3.6/site-packages (from boto3->mxnet-model-server) (0.1.13)\n",
      "Requirement already satisfied: botocore<1.11.0,>=1.10.82 in /home/ec2-user/anaconda3/envs/mxnet_p36/lib/python3.6/site-packages (from boto3->mxnet-model-server) (1.10.84)\n",
      "Requirement already satisfied: Jinja2>=2.4 in /home/ec2-user/anaconda3/envs/mxnet_p36/lib/python3.6/site-packages (from Flask->mxnet-model-server) (2.10)\n",
      "Requirement already satisfied: click>=2.0 in /home/ec2-user/anaconda3/envs/mxnet_p36/lib/python3.6/site-packages (from Flask->mxnet-model-server) (6.7)\n",
      "Requirement already satisfied: itsdangerous>=0.21 in /home/ec2-user/anaconda3/envs/mxnet_p36/lib/python3.6/site-packages (from Flask->mxnet-model-server) (0.24)\n",
      "Requirement already satisfied: Werkzeug>=0.7 in /home/ec2-user/anaconda3/envs/mxnet_p36/lib/python3.6/site-packages (from Flask->mxnet-model-server) (0.14.1)\n",
      "Requirement already satisfied: protobuf in /home/ec2-user/anaconda3/envs/mxnet_p36/lib/python3.6/site-packages (from onnx==1.1.1->mxnet-model-server) (3.5.2)\n",
      "Requirement already satisfied: numpy in /home/ec2-user/anaconda3/envs/mxnet_p36/lib/python3.6/site-packages (from onnx==1.1.1->mxnet-model-server) (1.14.5)\n",
      "Requirement already satisfied: monotonic>=0.1 in /home/ec2-user/anaconda3/envs/mxnet_p36/lib/python3.6/site-packages (from fasteners->mxnet-model-server) (1.5)\n",
      "Requirement already satisfied: chardet<3.1.0,>=3.0.2 in /home/ec2-user/anaconda3/envs/mxnet_p36/lib/python3.6/site-packages (from requests->mxnet-model-server) (3.0.4)\n",
      "Requirement already satisfied: idna<2.7,>=2.5 in /home/ec2-user/anaconda3/envs/mxnet_p36/lib/python3.6/site-packages (from requests->mxnet-model-server) (2.6)\n",
      "Requirement already satisfied: urllib3<1.23,>=1.21.1 in /home/ec2-user/anaconda3/envs/mxnet_p36/lib/python3.6/site-packages (from requests->mxnet-model-server) (1.22)\n",
      "Requirement already satisfied: certifi>=2017.4.17 in /home/ec2-user/anaconda3/envs/mxnet_p36/lib/python3.6/site-packages (from requests->mxnet-model-server) (2018.10.15)\n",
      "Requirement already satisfied: graphviz<0.9.0,>=0.8.1 in /home/ec2-user/anaconda3/envs/mxnet_p36/lib/python3.6/site-packages (from mxnet-mkl>=1.2->mxnet-model-server) (0.8.4)\n",
      "Requirement already satisfied: python-dateutil<3.0.0,>=2.1; python_version >= \"2.7\" in /home/ec2-user/anaconda3/envs/mxnet_p36/lib/python3.6/site-packages (from botocore<1.11.0,>=1.10.82->boto3->mxnet-model-server) (2.7.3)\n",
      "Requirement already satisfied: docutils>=0.10 in /home/ec2-user/anaconda3/envs/mxnet_p36/lib/python3.6/site-packages (from botocore<1.11.0,>=1.10.82->boto3->mxnet-model-server) (0.14)\n",
      "Requirement already satisfied: MarkupSafe>=0.23 in /home/ec2-user/anaconda3/envs/mxnet_p36/lib/python3.6/site-packages (from Jinja2>=2.4->Flask->mxnet-model-server) (1.0)\n",
      "Requirement already satisfied: setuptools in /home/ec2-user/anaconda3/envs/mxnet_p36/lib/python3.6/site-packages (from protobuf->onnx==1.1.1->mxnet-model-server) (39.1.0)\n",
      "Building wheels for collected packages: onnx\n",
      "  Running setup.py bdist_wheel for onnx ... \u001b[?25ldone\n",
      "\u001b[?25h  Stored in directory: /home/ec2-user/.cache/pip/wheels/fb/13/8e/b5652eb574597bfed05b000ed359413029ef2391f24315b733\n",
      "Successfully built onnx\n",
      "\u001b[31mkeras 2.2.2 has requirement keras-preprocessing==1.0.2, but you'll have keras-preprocessing 1.0.1 which is incompatible.\u001b[0m\n",
      "Installing collected packages: onnx, mxnet-mkl\n",
      "  Found existing installation: onnx 1.2.1\n",
      "    Uninstalling onnx-1.2.1:\n",
      "      Successfully uninstalled onnx-1.2.1\n",
      "Successfully installed mxnet-mkl-1.3.0.post0 onnx-1.1.1\n",
      "\u001b[33mYou are using pip version 10.0.1, however version 18.1 is available.\n",
      "You should consider upgrading via the 'pip install --upgrade pip' command.\u001b[0m\n"
     ]
    }
   ],
   "source": [
    "!pip install mxnet-model-server"
   ]
  },
  {
   "cell_type": "markdown",
   "metadata": {},
   "source": [
    "# Downloading and verifying an ONNX model"
   ]
  },
  {
   "cell_type": "code",
   "execution_count": 3,
   "metadata": {},
   "outputs": [
    {
     "name": "stdout",
     "output_type": "stream",
     "text": [
      "/home/ec2-user/SageMaker/squeezenet\n",
      "  % Total    % Received % Xferd  Average Speed   Time    Time     Time  Current\n",
      "                                 Dload  Upload   Total   Spent    Left  Speed\n",
      "100 4836k  100 4836k    0     0  12.9M      0 --:--:-- --:--:-- --:--:-- 12.9M\n"
     ]
    }
   ],
   "source": [
    "!mkdir squeezenet\n",
    "%cd squeezenet\n",
    "!curl -O https://s3.amazonaws.com/model-server/models/onnx-squeezenet/squeezenet.onnx"
   ]
  },
  {
   "cell_type": "code",
   "execution_count": 4,
   "metadata": {},
   "outputs": [],
   "source": [
    "import onnx\n",
    "\n",
    "# Load the ONNX model\n",
    "model = onnx.load(\"squeezenet.onnx\")\n",
    "\n",
    "# Check that the IR is well formed, identified issues will error out\n",
    "onnx.checker.check_model(model)"
   ]
  },
  {
   "cell_type": "markdown",
   "metadata": {},
   "source": [
    "# Create an MXNet Model Archive bundle for serving"
   ]
  },
  {
   "cell_type": "code",
   "execution_count": 5,
   "metadata": {},
   "outputs": [
    {
     "name": "stdout",
     "output_type": "stream",
     "text": [
      "  % Total    % Received % Xferd  Average Speed   Time    Time     Time  Current\n",
      "                                 Dload  Upload   Total   Spent    Left  Speed\n",
      "100   259  100   259    0     0   2670      0 --:--:-- --:--:-- --:--:--  2642\n",
      "  % Total    % Received % Xferd  Average Speed   Time    Time     Time  Current\n",
      "                                 Dload  Upload   Total   Spent    Left  Speed\n",
      "100 31675  100 31675    0     0   236k      0 --:--:-- --:--:-- --:--:--  236k\n"
     ]
    }
   ],
   "source": [
    "# Let's go ahead and download the files we need:\n",
    "!curl -O https://s3.amazonaws.com/model-server/models/onnx-squeezenet/signature.json\n",
    "!curl -O https://s3.amazonaws.com/model-server/models/onnx-squeezenet/synset.txt"
   ]
  },
  {
   "cell_type": "code",
   "execution_count": 6,
   "metadata": {},
   "outputs": [
    {
     "name": "stdout",
     "output_type": "stream",
     "text": [
      "{\r\n",
      "  \"inputs\": [\r\n",
      "    {\r\n",
      "      \"data_name\": \"input_0\",\r\n",
      "      \"data_shape\": [0, 3, 224, 224]\r\n",
      "    }\r\n",
      "  ],\r\n",
      "  \"input_type\": \"image/jpeg\",\r\n",
      "  \"outputs\": [\r\n",
      "    {\r\n",
      "      \"data_name\": \"softmax\",\r\n",
      "      \"data_shape\": [0, 1000]\r\n",
      "    }\r\n",
      "  ],\r\n",
      "  \"output_type\": \"application/json\"\r\n",
      "}"
     ]
    }
   ],
   "source": [
    "# Let's take a peek into the **signature.json** file:\n",
    "!cat signature.json"
   ]
  },
  {
   "cell_type": "code",
   "execution_count": 7,
   "metadata": {},
   "outputs": [
    {
     "name": "stdout",
     "output_type": "stream",
     "text": [
      "n01440764 tench, Tinca tinca\r\n",
      "n01443537 goldfish, Carassius auratus\r\n",
      "n01484850 great white shark, white shark, man-eater, man-eating shark, Carcharodon carcharias\r\n",
      "n01491361 tiger shark, Galeocerdo cuvieri\r\n",
      "n01494475 hammerhead, hammerhead shark\r\n",
      "n01496331 electric ray, crampfish, numbfish, torpedo\r\n",
      "n01498041 stingray\r\n",
      "n01514668 cock\r\n",
      "n01514859 hen\r\n",
      "n01518878 ostrich, Struthio camelus\r\n"
     ]
    }
   ],
   "source": [
    "# Let's take a peek into the synset.txt file:\n",
    "!head -n 10 synset.txt"
   ]
  },
  {
   "cell_type": "code",
   "execution_count": 8,
   "metadata": {},
   "outputs": [
    {
     "name": "stdout",
     "output_type": "stream",
     "text": [
      "-rw-rw-r-- 1 ec2-user ec2-user 5008808 Nov  7 15:22 squeezenet.model\r\n"
     ]
    }
   ],
   "source": [
    "# Let's package everything up into a Model Archive bundle\n",
    "!mxnet-model-export --model-name squeezenet --model-path .\n",
    "!ls -l squeezenet.model"
   ]
  },
  {
   "cell_type": "markdown",
   "metadata": {},
   "source": [
    "# Serving the model with MXNet model server"
   ]
  },
  {
   "cell_type": "code",
   "execution_count": 9,
   "metadata": {},
   "outputs": [],
   "source": [
    "# Spawning a new process to run the server\n",
    "import subprocess as sp\n",
    "server = sp.Popen(\"mxnet-model-server --models squeezenet=squeezenet.model\", shell=True)"
   ]
  },
  {
   "cell_type": "code",
   "execution_count": 11,
   "metadata": {},
   "outputs": [
    {
     "name": "stdout",
     "output_type": "stream",
     "text": [
      "{\r\n",
      "  \"health\": \"healthy!\"\r\n",
      "}\r\n"
     ]
    }
   ],
   "source": [
    "# Check out the health endpoint\n",
    "!curl http://127.0.0.1:8080/ping"
   ]
  },
  {
   "cell_type": "code",
   "execution_count": 14,
   "metadata": {},
   "outputs": [
    {
     "name": "stdout",
     "output_type": "stream",
     "text": [
      "  % Total    % Received % Xferd  Average Speed   Time    Time     Time  Current\n",
      "                                 Dload  Upload   Total   Spent    Left  Speed\n",
      "100  108k  100  108k    0     0   866k      0 --:--:-- --:--:-- --:--:--  866k\n",
      "{\n",
      "  \"prediction\": [\n",
      "    [\n",
      "      {\n",
      "        \"class\": \"n02124075 Egyptian cat\", \n",
      "        \"probability\": 0.6482629179954529\n",
      "      }, \n",
      "      {\n",
      "        \"class\": \"n02123045 tabby, tabby cat\", \n",
      "        \"probability\": 0.2318260818719864\n",
      "      }, \n",
      "      {\n",
      "        \"class\": \"n02123159 tiger cat\", \n",
      "        \"probability\": 0.10045160353183746\n",
      "      }, \n",
      "      {\n",
      "        \"class\": \"n02127052 lynx, catamount\", \n",
      "        \"probability\": 0.013487360440194607\n",
      "      }, \n",
      "      {\n",
      "        \"class\": \"n02128757 snow leopard, ounce, Panthera uncia\", \n",
      "        \"probability\": 0.003135664388537407\n",
      "      }\n",
      "    ]\n",
      "  ]\n",
      "}\n"
     ]
    }
   ],
   "source": [
    "# Download an image Trying out image classification\n",
    "!curl -O https://s3.amazonaws.com/model-server/inputs/kitten.jpg\n",
    "!curl -X POST http://127.0.0.1:8080/squeezenet/predict -F \"data_0=@kitten.jpg\""
   ]
  },
  {
   "cell_type": "markdown",
   "metadata": {},
   "source": [
    "# Clean up"
   ]
  },
  {
   "cell_type": "code",
   "execution_count": null,
   "metadata": {},
   "outputs": [],
   "source": [
    "# Lastly, we'll terminate the server\n",
    "server.terminate()"
   ]
  }
 ],
 "metadata": {
  "kernelspec": {
   "display_name": "conda_mxnet_p36",
   "language": "python",
   "name": "conda_mxnet_p36"
  },
  "language_info": {
   "codemirror_mode": {
    "name": "ipython",
    "version": 3
   },
   "file_extension": ".py",
   "mimetype": "text/x-python",
   "name": "python",
   "nbconvert_exporter": "python",
   "pygments_lexer": "ipython3",
   "version": "3.6.5"
  }
 },
 "nbformat": 4,
 "nbformat_minor": 2
}
